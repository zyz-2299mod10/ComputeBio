{
  "cells": [
    {
      "cell_type": "code",
      "execution_count": 37,
      "metadata": {
        "id": "VXVbzrnHGWbP"
      },
      "outputs": [],
      "source": [
        "import pandas as pd\n",
        "import numpy as np\n",
        "import matplotlib.pyplot as plt\n",
        "from sklearn.model_selection import train_test_split\n",
        "from sklearn import preprocessing\n",
        "from sklearn.svm import SVC\n",
        "from sklearn.model_selection import GridSearchCV\n",
        "from sklearn.metrics import plot_confusion_matrix\n",
        "from sklearn.metrics import accuracy_score,confusion_matrix\n",
        "from scipy.stats import chi2_contingency\n",
        "from scipy.stats import mannwhitneyu\n",
        "import math\n",
        "from sklearn.metrics import roc_curve, auc\n",
        "from sklearn.model_selection import cross_val_score\n",
        "from sklearn.model_selection import cross_validate\n",
        "from sklearn.metrics import make_scorer\n",
        "from sklearn.metrics import confusion_matrix\n",
        "from sklearn.feature_selection import RFE, RFECV\n",
        "from sklearn.neighbors import KNeighborsClassifier\n",
        "from sklearn.ensemble import RandomForestClassifier\n",
        "from sklearn.model_selection import RandomizedSearchCV\n",
        "from xgboost import XGBClassifier\n",
        "\n",
        "from joblib import dump, load"
      ]
    },
    {
      "cell_type": "code",
      "execution_count": 4,
      "metadata": {
        "id": "gHyt2tsJrLE-"
      },
      "outputs": [],
      "source": [
        "def rfe_f_select(model, x_train, y_train):\n",
        "  rfecv = RFECV(estimator = model, step = 1, cv = 5, scoring='accuracy').fit(x_train, y_train)\n",
        "  print(\"Optimal number of features : %d\" % rfecv.n_features_)\n",
        "  print(\"Support is %s\" % rfecv.support_)\n",
        "  print(\"Ranking of features : %s\" % rfecv.ranking_)\n",
        "\n",
        "  return rfecv.n_features_, rfecv.support_"
      ]
    },
    {
      "cell_type": "code",
      "execution_count": 5,
      "metadata": {
        "id": "kQF1Z_hYBMKG"
      },
      "outputs": [],
      "source": [
        "def grid_search(model, param_grid_, x_train, y_train_):\n",
        "  optimal_params = GridSearchCV(\n",
        "      model,\n",
        "      param_grid,\n",
        "      cv = 5,\n",
        "      scoring = 'accuracy',\n",
        "      verbose = 1,\n",
        "      n_jobs = -1,\n",
        "    )\n",
        "\n",
        "  optimal_params.fit(x_train, y_train_)\n",
        "  print(optimal_params.best_params_)"
      ]
    },
    {
      "cell_type": "code",
      "execution_count": 6,
      "metadata": {
        "id": "t5eCN4q38Mdq"
      },
      "outputs": [],
      "source": [
        "def ROC_and_AUC(label, score, name):\n",
        "    fpr, tpr , _ = roc_curve(label, score)\n",
        "    roc_auc = auc(fpr, tpr)\n",
        "    name = name + '_auc = ' + str(roc_auc.round(3))\n",
        "    lw = 2\n",
        "    plt.plot(fpr, tpr, lw = lw, label = name)\n",
        "    plt.xlim([0.0, 1.0])\n",
        "    plt.ylim([0.0, 1.05])\n",
        "    plt.xlabel('False Positive Rate')\n",
        "    plt.ylabel('True Positive Rate')\n",
        "    plt.title('ROC curve')\n",
        "    plt.legend(loc = \"lower right\")"
      ]
    },
    {
      "cell_type": "code",
      "execution_count": 7,
      "metadata": {
        "id": "oDkiggwU8PV8"
      },
      "outputs": [],
      "source": [
        "def model_evaluation_result(X_train_Std, y_train, X_test_Std, y_test, model, roctrainname, roctestname):\n",
        "    \n",
        "    model.fit(X_train_Std, y_train)\n",
        "    \n",
        "    train_pred = model.predict(X_train_Std)\n",
        "    score_train = model.decision_function(X_train_Std)\n",
        "    train_acc = accuracy_score(y_train, train_pred)\n",
        "    tn, fp, fn, tp = confusion_matrix(y_train, train_pred).ravel()\n",
        "    train_specificity = tn / (tn+fp)\n",
        "    train_sensitivity = tp / (tp+fn)\n",
        "    train_PPV = tp / (tp+fp)\n",
        "    train_NPV = tn / (fn+tn)\n",
        "    train_MCC = ((tp*tn)-(fp*fn))/math.sqrt((tp+fp)*(tp+fn)*(tn+fp)*(tn+fn))\n",
        "    ROC_and_AUC(y_train, score_train, roctrainname)\n",
        "\n",
        "    test_pred = model.predict(X_test_Std)\n",
        "    score_test = model.decision_function(X_test_Std)\n",
        "    test_acc = accuracy_score(y_test, test_pred)\n",
        "    tn, fp, fn, tp = confusion_matrix(y_test, test_pred).ravel()\n",
        "    test_specificity = tn / (tn+fp)\n",
        "    test_sensitivity = tp / (tp+fn)\n",
        "    test_PPV = tp / (tp+fp)\n",
        "    test_NPV = tn / (fn+tn)\n",
        "    test_MCC = ((tp*tn)-(fp*fn))/math.sqrt((tp+fp)*(tp+fn)*(tn+fp)*(tn+fn))\n",
        "    ROC_and_AUC(y_test, score_test, roctestname)\n",
        "    result = [{'Accuracy': train_acc,'Specificity': train_specificity, 'Sensitivity': train_sensitivity, 'MCC': train_MCC, 'PPV': train_PPV, 'NPV': train_NPV},\n",
        "          {'Accuracy': test_acc,'Specificity': test_specificity, 'Sensitivity': test_sensitivity, 'MCC': test_MCC, 'PPV': test_PPV, 'NPV': test_NPV}]\n",
        "    result_df = pd.DataFrame(result)\n",
        "    result_df.index = ['Training set', 'Test_set']\n",
        "    result_df = result_df.round(3)\n",
        "    print(result_df)\n",
        "    return result_df, score_train, train_pred, score_test, test_pred, model"
      ]
    },
    {
      "cell_type": "code",
      "execution_count": 8,
      "metadata": {
        "id": "N0L8Mo6rJm5X"
      },
      "outputs": [],
      "source": [
        "def confusion_matrix_scorer(clf, X, y):\n",
        "  y_pred = clf.predict(X)\n",
        "  cm = confusion_matrix(y, y_pred)\n",
        "  return {'tn': cm[0, 0], 'fp': cm[0, 1],'fn': cm[1, 0], 'tp': cm[1, 1]}"
      ]
    },
    {
      "cell_type": "code",
      "execution_count": 31,
      "metadata": {
        "id": "TNNnLOsfJoLn"
      },
      "outputs": [],
      "source": [
        "def print_cm(model, x_train, y_train):\n",
        "  cv_results = cross_validate(model, x_train, y_train, cv = 5, scoring = confusion_matrix_scorer)\n",
        "  tn = round(cv_results['test_tn'].mean())\n",
        "  fp = round(cv_results['test_fp'].mean())\n",
        "  fn = round(cv_results['test_fn'].mean())\n",
        "  tp = round(cv_results['test_tp'].mean())\n",
        "  accuracy = (tp+tn)/(tn+fp+fn+tp)\n",
        "  precision = tp/(tp+fp)\n",
        "  sensitivity = tp/(tp+fn)\n",
        "  specificity = tn/(tn+fp)\n",
        "  MCC = ((tp*tn)-(fp*fn))/math.sqrt((tp+fp)*(tp+fn)*(tn+fp)*(tn+fn))\n",
        "  print(cv_results['test_tn'], round(cv_results['test_tn'].mean()))\n",
        "  print(cv_results['test_fp'], round(cv_results['test_fp'].mean()))\n",
        "  print(cv_results['test_fn'], round(cv_results['test_fn'].mean()))\n",
        "  print(cv_results['test_tp'], round(cv_results['test_tp'].mean()))\n",
        "  print('accuracy:', accuracy)\n",
        "  print('precision:', precision)\n",
        "  print('sensitivity:', sensitivity)\n",
        "  print('specificity:', specificity)\n",
        "  print('MCC:', MCC)"
      ]
    },
    {
      "cell_type": "code",
      "execution_count": 35,
      "metadata": {
        "id": "3xJ0lfwAyuVI"
      },
      "outputs": [],
      "source": [
        "def proba_model_evaluation_result(X_train_Std, y_train, X_test_Std, y_test, model, roctrainname, roctestname):\n",
        "    \n",
        "    model.fit(X_train_Std, y_train)\n",
        "    \n",
        "    train_pred = model.predict(X_train_Std)\n",
        "    score_train = model.predict_proba(X_train_Std)\n",
        "    train_acc = accuracy_score(y_train, train_pred)\n",
        "    tn, fp, fn, tp = confusion_matrix(y_train, train_pred).ravel()\n",
        "    train_specificity = tn / (tn+fp)\n",
        "    train_sensitivity = tp / (tp+fn)\n",
        "    train_PPV = tp / (tp+fp)\n",
        "    train_NPV = tn / (fn+tn)\n",
        "    train_MCC = ((tp*tn)-(fp*fn))/math.sqrt((tp+fp)*(tp+fn)*(tn+fp)*(tn+fn))\n",
        "    ROC_and_AUC(y_train, score_train[:, 1], roctrainname)\n",
        "\n",
        "    test_pred = model.predict(X_test_Std)\n",
        "    score_test = model.predict_proba(X_test_Std)\n",
        "    test_acc = accuracy_score(y_test, test_pred)\n",
        "    tn, fp, fn, tp = confusion_matrix(y_test, test_pred).ravel()\n",
        "    test_specificity = tn / (tn+fp)\n",
        "    test_sensitivity = tp / (tp+fn)\n",
        "    test_PPV = tp / (tp+fp)\n",
        "    test_NPV = tn / (fn+tn)\n",
        "    test_MCC = ((tp*tn)-(fp*fn))/math.sqrt((tp+fp)*(tp+fn)*(tn+fp)*(tn+fn))\n",
        "    ROC_and_AUC(y_test, score_test[:, 1], roctestname)\n",
        "    result = [{'Accuracy': train_acc,'Specificity': train_specificity, 'Sensitivity': train_sensitivity, 'MCC': train_MCC, 'PPV': train_PPV, 'NPV': train_NPV},\n",
        "          {'Accuracy': test_acc,'Specificity': test_specificity, 'Sensitivity': test_sensitivity, 'MCC': test_MCC, 'PPV': test_PPV, 'NPV': test_NPV}]\n",
        "    result_df = pd.DataFrame(result)\n",
        "    result_df.index = ['Training set', 'Test_set']\n",
        "    result_df = result_df.round(3)\n",
        "    print(result_df)\n",
        "    return result_df, score_train, train_pred, score_test, test_pred, model"
      ]
    },
    {
      "cell_type": "code",
      "execution_count": 13,
      "metadata": {
        "id": "DmD86VC1Gbzu"
      },
      "outputs": [],
      "source": [
        "df = pd.read_excel('train_dialysis.xlsx')"
      ]
    },
    {
      "cell_type": "code",
      "execution_count": 14,
      "metadata": {
        "colab": {
          "base_uri": "https://localhost:8080/"
        },
        "id": "JNmtteeSGd5e",
        "outputId": "664d63c0-812e-48d5-c52a-f76d2c8d152f"
      },
      "outputs": [
        {
          "output_type": "stream",
          "name": "stdout",
          "text": [
            "Mounted at /content/drive\n"
          ]
        }
      ],
      "source": [
        "from google.colab import drive\n",
        "drive.mount('/content/drive')"
      ]
    },
    {
      "cell_type": "code",
      "execution_count": null,
      "metadata": {
        "colab": {
          "base_uri": "https://localhost:8080/"
        },
        "id": "TJKsRNCvGz6O",
        "outputId": "24f08073-eaba-4ec6-d518-c2ddc4687ce1"
      },
      "outputs": [
        {
          "name": "stdout",
          "output_type": "stream",
          "text": [
            "        d1    d2    d3  d4   d5   d6    d7  d8   d9   d10  ...    c82    c83  \\\n",
            "0     1.61  1.71  1250   1  1.0  1.0  40.0   5  2.5  1250  ...  698.9  293.0   \n",
            "1     1.61  1.71  1250   1  1.0  1.0  40.0   5  2.5  1250  ...  698.9  293.0   \n",
            "2     1.61  1.71  1250   1  1.0  1.0  40.0   5  2.5  1250  ...  698.9  293.0   \n",
            "3     1.61  1.71  1250   1  1.0  1.0  40.0   5  2.5  1250  ...  698.9  293.0   \n",
            "4     1.61  1.71  1250   1  1.0  1.0  40.0   5  2.5  1250  ...  698.9  293.0   \n",
            "...    ...   ...   ...  ..  ...  ...   ...  ..  ...   ...  ...    ...    ...   \n",
            "7062  1.60  1.70  1250   1  1.0  1.0  20.0   1  2.5  1250  ...  260.8   84.0   \n",
            "7063  1.60  1.70  1250   1  1.0  1.0  20.0   1  2.5  1250  ...  260.8   84.0   \n",
            "7064  1.60  1.70  1250   1  1.0  1.0  20.0   1  2.5  1250  ...  260.8   84.0   \n",
            "7065  1.60  1.70  1250   1  1.0  1.0  20.0   1  2.5  1250  ...  260.8   84.0   \n",
            "7066  1.60  1.70  1250   1  1.0  1.0  20.0   1  2.5  1250  ...  260.8   84.0   \n",
            "\n",
            "        c84   c85   c86   c87   c88    c89    c90  label  \n",
            "0     250.0  53.0  0.60  67.7  81.2  280.0  1.325      0  \n",
            "1     250.0  53.0  0.60  67.7  81.2  280.0  1.100      0  \n",
            "2     250.0  53.0  0.60  67.7  81.2  280.0  1.050      0  \n",
            "3     250.0  53.0  0.60  67.7  81.2  280.0  1.100      0  \n",
            "4     250.0  53.0  0.60  67.7  81.2  280.0  1.100      0  \n",
            "...     ...   ...   ...   ...   ...    ...    ...    ...  \n",
            "7062  231.0  40.0  1.25  55.7  84.0  265.0  3.750      1  \n",
            "7063  231.0  40.0  1.25  55.7  84.0  265.0  3.750      0  \n",
            "7064  231.0  40.0  1.25  55.7  84.0  265.0  3.750      0  \n",
            "7065  231.0  40.0  1.25  55.7  84.0  265.0  3.750      0  \n",
            "7066  231.0  40.0  1.25  55.7  84.0  265.0  3.750      0  \n",
            "\n",
            "[7067 rows x 91 columns]\n"
          ]
        }
      ],
      "source": [
        "print(df)"
      ]
    },
    {
      "cell_type": "code",
      "execution_count": 15,
      "metadata": {
        "id": "pgyPio90HEwu"
      },
      "outputs": [],
      "source": [
        "train_df, test_df = train_test_split(df, train_size = 0.7, random_state = 0) "
      ]
    },
    {
      "cell_type": "code",
      "execution_count": 16,
      "metadata": {
        "colab": {
          "base_uri": "https://localhost:8080/"
        },
        "id": "A46an-oHD8yh",
        "outputId": "cb13a577-6d65-4afc-c00c-739b0bb727a2"
      },
      "outputs": [
        {
          "output_type": "stream",
          "name": "stdout",
          "text": [
            "['d1', 'd2', 'd3', 'd4', 'd5', 'd6', 'd7', 'd8', 'd9', 'd11', 'd13', 'd14', 'd15', 'd20', 'd21', 'd22', 'd23', 'd24', 'd27', 'd28', 'd29', 'd30', 'd31', 'd32', 'd33', 'd34', 'd37', 'd39', 'c43', 'c45', 'c46', 'c49', 'c50', 'c51', 'c53', 'c55', 'c56', 'c59', 'c60', 'c61', 'c62', 'c64', 'c65', 'c66', 'c67', 'c70', 'c71', 'c72', 'c73', 'c74', 'c75', 'c78', 'c80', 'c82', 'c83', 'c84', 'c89', 'c90']\n",
            "        d1     d2    d3  d4   d5   d6    d7  d8   d9  d11  ...   c73     c74  \\\n",
            "3318  1.70  1.800  1250   1  1.0  0.5  40.0   1  2.5    0  ...  12.6  2.9185   \n",
            "2701  1.60  1.680  1000   2  1.0  1.0  40.0   1  2.5  500  ...  10.6  1.1365   \n",
            "5862  1.60  1.700     0   2  2.0  1.0  50.0   1  2.5    0  ...  11.3  7.9100   \n",
            "3595  1.64  1.735   250   1  1.0  0.5  40.0   1  3.0  250  ...  10.6  7.8165   \n",
            "2377  1.60  1.680  1000   2  1.0  1.0  40.0   1  2.5  500  ...  11.4  1.1365   \n",
            "...    ...    ...   ...  ..  ...  ...   ...  ..  ...  ...  ...   ...     ...   \n",
            "4931  1.60  1.700     0   2  1.0  1.5  40.0   1  3.0    0  ...  10.3  5.1200   \n",
            "3264  1.70  1.800  1250   1  1.0  0.5  40.0   1  2.5    0  ...   9.2  2.9185   \n",
            "1653  1.63  1.720   750   2  1.0  1.0  50.0   1  2.5  500  ...  12.2  7.6560   \n",
            "2607  1.68  1.780  1000   2  0.0  0.5  40.0   1  2.5  500  ...  10.7  2.9185   \n",
            "2732  1.60  1.670  1000   2  1.0  1.0  40.0   1  2.5  500  ...  11.0  1.1365   \n",
            "\n",
            "       c75    c78   c80     c82    c83    c84    c89     c90  \n",
            "3318  6.00  143.0  33.0   621.6   51.0  260.0  280.0  1.1500  \n",
            "2701  6.22   70.0  40.0   532.2  223.0  257.0  280.0  1.5625  \n",
            "5862  6.90  132.0  24.0   341.4  572.0  146.0  150.0  0.5000  \n",
            "3595  5.50  101.0  35.0    24.0  338.0  184.0  280.0  1.2750  \n",
            "2377  6.40   60.0  40.0  1145.6  189.0  218.0  280.0  1.6750  \n",
            "...    ...    ...   ...     ...    ...    ...    ...     ...  \n",
            "4931  5.20  209.0  35.0    10.2  696.0  320.0  280.0  0.9500  \n",
            "3264  6.20  123.0  33.0   621.6  147.0  222.0  280.0  1.1500  \n",
            "1653  6.00   97.0  37.0   233.4  559.0  212.0  280.0  1.4375  \n",
            "2607  5.50  120.0  33.0   147.4  698.0  175.0  280.0  1.8500  \n",
            "2732  6.10   64.0  40.0   532.2  223.0  257.0  280.0  1.5625  \n",
            "\n",
            "[4946 rows x 58 columns]\n"
          ]
        }
      ],
      "source": [
        "#chi-square\n",
        "cat_df = train_df.iloc[:,0:39]\n",
        "cat_df = pd.concat([cat_df, train_df['label']], axis = 1)\n",
        "\n",
        "cat_p_value = []\n",
        "cat_df = cat_df[cat_df['label'] >= 0]\n",
        "titles = list(cat_df.columns)\n",
        "\n",
        "for i in titles:\n",
        "    table = pd.crosstab(cat_df['label'],cat_df[i])\n",
        "    chi2, p, dof, expected = chi2_contingency(table)\n",
        "    cat_p_value.append(p) \n",
        "d1_d39_p_value = pd.DataFrame([titles, cat_p_value]).T\n",
        "d1_d39_p_value = d1_d39_p_value.rename(columns = {0:'features', 1:'p_value'})\n",
        "\n",
        "#Mann–Whitney U test\n",
        "cont_df = train_df.iloc[:,39:90]\n",
        "cont_df = pd.concat([cont_df, train_df['label']], axis = 1)\n",
        "cont_df = cont_df[cont_df['label'] >= 0]\n",
        "titles = list(cont_df.columns)\n",
        "\n",
        "c_p_value = []\n",
        "for i in titles:\n",
        "    value1=[]\n",
        "    value0=[]\n",
        "    my_col = cont_df[[i,'label']]\n",
        "    for j in range(0, my_col.shape[0]):\n",
        "        if (str(my_col.iloc[j,1]) == '1'):\n",
        "            value1.append(my_col.iloc[j,0])\n",
        "        elif (str(my_col.iloc[j,1]) == '-1'):\n",
        "            continue\n",
        "        else:\n",
        "            value0.append(my_col.iloc[j,0])\n",
        "    result = mannwhitneyu(value0, value1, alternative= 'two-sided') \n",
        "    c_p_value.append(result[1])\n",
        "c40_c90_p_value = pd.DataFrame([titles, c_p_value]).T\n",
        "c40_c90_p_value = c40_c90_p_value.rename(columns = {0:'features', 1:'p_value'})\n",
        "#print(c40_c90_p_value)\n",
        "#print(d1_d39_p_value)\n",
        "\n",
        "train_features = []\n",
        "for i in d1_d39_p_value.iloc:\n",
        "  if(i['p_value'] <= 0.05 and i['features'] != 'label'): train_features.append(i['features'])\n",
        "for i in c40_c90_p_value.iloc:\n",
        "  if(i['p_value'] <= 0.05 and i['features'] != 'label'): train_features.append(i['features'])\n",
        "\n",
        "train_predata = train_df.loc[:,train_features]\n",
        "test_predata = test_df.loc[:, train_features]\n",
        "\n",
        "print(train_features)\n",
        "print(train_predata)"
      ]
    },
    {
      "cell_type": "code",
      "execution_count": 17,
      "metadata": {
        "colab": {
          "base_uri": "https://localhost:8080/"
        },
        "id": "tAXdlm8pf5l4",
        "outputId": "951a4b64-0a6e-4385-f05a-8592066e30cd"
      },
      "outputs": [
        {
          "output_type": "stream",
          "name": "stdout",
          "text": [
            "[[0.33333333 0.8        1.         ... 0.47081712 0.88135593 0.30666667]\n",
            " [0.         0.56       0.8        ... 0.45914397 0.88135593 0.41666667]\n",
            " [0.         0.6        0.         ... 0.02723735 0.         0.13333333]\n",
            " ...\n",
            " [0.1        0.64       0.6        ... 0.28404669 0.88135593 0.38333333]\n",
            " [0.26666667 0.76       0.8        ... 0.14007782 0.88135593 0.49333333]\n",
            " [0.         0.54       0.8        ... 0.45914397 0.88135593 0.41666667]]\n",
            "[[0.13333333 0.68       1.         ... 0.54863813 0.88135593 0.76666667]\n",
            " [0.         0.55       0.8        ... 0.64980545 0.88135593 0.26666667]\n",
            " [0.         0.54       0.8        ... 0.22178988 0.88135593 0.96      ]\n",
            " ...\n",
            " [0.03333333 0.57       0.8        ... 0.64980545 0.88135593 0.26666667]\n",
            " [0.08333333 0.59       0.8        ... 0.38132296 0.88135593 0.30666667]\n",
            " [0.1        0.64       1.         ... 0.17120623 0.79322034 0.34333333]]\n"
          ]
        }
      ],
      "source": [
        "y_train = train_df.iloc[:,-1]\n",
        "y_test = test_df.iloc[:,-1]\n",
        "\n",
        "scaler_Std = preprocessing.StandardScaler().fit(train_predata)\n",
        "scaler_MinMax = preprocessing.MinMaxScaler().fit(train_predata)\n",
        "\n",
        "x_pretrain_Std = scaler_Std.transform(train_predata)\n",
        "x_pretest_Std = scaler_Std.transform(test_predata)\n",
        "x_pretrain_MinMax = scaler_MinMax.transform(train_predata)\n",
        "x_pretest_MinMax = scaler_MinMax.transform(test_predata)\n",
        "\n",
        "#print(x_pretrain_Std)\n",
        "print(x_pretrain_MinMax)\n",
        "print(x_pretest_MinMax)"
      ]
    },
    {
      "cell_type": "markdown",
      "metadata": {
        "id": "xJA5X8gLO_XF"
      },
      "source": [
        "**SVC**"
      ]
    },
    {
      "cell_type": "code",
      "execution_count": 9,
      "metadata": {
        "colab": {
          "base_uri": "https://localhost:8080/"
        },
        "id": "r9YxMF2Gt_pY",
        "outputId": "bfbeac16-1d3c-4fa6-861e-ddbc5fe2fb8e"
      },
      "outputs": [
        {
          "output_type": "stream",
          "name": "stdout",
          "text": [
            "Optimal number of features : 43\n",
            "Support is [ True False  True  True  True  True  True  True  True False False False\n",
            "  True  True False  True  True  True  True  True  True False  True  True\n",
            "  True  True  True False  True False False False  True  True  True  True\n",
            "  True  True False  True False False False  True  True  True  True  True\n",
            "  True  True  True  True  True  True  True False  True  True]\n",
            "Ranking of features : [ 1 15  1  1  1  1  1  1  1  5  9  3  1  1 16  1  1  1  1  1  1 12  1  1\n",
            "  1  1  1  6  1  7 11 10  1  1  1  1  1  1  8  1  2  4 14  1  1  1  1  1\n",
            "  1  1  1  1  1  1  1 13  1  1]\n"
          ]
        }
      ],
      "source": [
        "svc = SVC(kernel = 'linear')\n",
        "n_feature, selected = rfe_f_select(svc, x_pretrain_Std, y_train)"
      ]
    },
    {
      "cell_type": "code",
      "execution_count": 10,
      "metadata": {
        "id": "e4K0NDRzD2N3"
      },
      "outputs": [],
      "source": [
        "svc_train_data = train_predata.loc[:, selected]\n",
        "svc_test_data = test_predata.loc[:, selected]\n",
        "\n",
        "# print(svc_train_data.columns)\n",
        "# print(svc_train_data)\n",
        "# print(svc_test_data)"
      ]
    },
    {
      "cell_type": "code",
      "execution_count": 11,
      "metadata": {
        "colab": {
          "base_uri": "https://localhost:8080/"
        },
        "id": "FujRAc2bJplm",
        "outputId": "f4e56e3e-74c2-47d2-e1cd-35e238029eca"
      },
      "outputs": [
        {
          "output_type": "stream",
          "name": "stdout",
          "text": [
            "[[ 1.07689771  0.98260277 -0.5702343  ... -1.58739438  0.25256772\n",
            "  -0.33489454]\n",
            " [-0.72008145  0.48048961  0.50501498 ... -0.81229314  0.25256772\n",
            "   0.09048478]\n",
            " [-0.72008145 -1.52796304  0.50501498 ...  0.76044135 -5.01003395\n",
            "  -1.00518923]\n",
            " ...\n",
            " [-0.1809877  -0.02162356  0.50501498 ...  0.70185812  0.25256772\n",
            "  -0.03841805]\n",
            " [ 0.71750188  0.48048961  0.50501498 ...  1.32824808  0.25256772\n",
            "   0.38696127]\n",
            " [-0.72008145  0.48048961  0.50501498 ... -0.81229314  0.25256772\n",
            "   0.09048478]]\n"
          ]
        }
      ],
      "source": [
        "svc_scaler_Std = preprocessing.StandardScaler().fit(svc_train_data)\n",
        "\n",
        "svc_scaler_MinMax = preprocessing.MinMaxScaler().fit(svc_train_data)\n",
        "svc_x_train_Std = svc_scaler_Std.transform(svc_train_data)\n",
        "svc_x_test_Std = svc_scaler_Std.transform(svc_test_data)\n",
        "#svc_x_train_MinMax = svc_scaler_MinMax.transform(svc_train_data)\n",
        "#svc_x_test_MinMax = svc_scaler_MinMax.transform(svc_test_data)\n",
        "\n",
        "print(svc_x_train_Std)"
      ]
    },
    {
      "cell_type": "code",
      "execution_count": 24,
      "metadata": {
        "id": "dt_HPWFwBjFQ",
        "colab": {
          "base_uri": "https://localhost:8080/"
        },
        "outputId": "d3bde04f-fa70-4f6c-935a-545e2abd4849"
      },
      "outputs": [
        {
          "output_type": "stream",
          "name": "stdout",
          "text": [
            "Fitting 5 folds for each of 60 candidates, totalling 300 fits\n",
            "{'C': 12, 'gamma': 1, 'kernel': 'rbf'}\n"
          ]
        }
      ],
      "source": [
        "param_grid = {\n",
        "        'kernel': ['linear', 'rbf'],\n",
        "        'C': [1, 4, 10, 12, 14, 16],\n",
        "        'gamma': [0.001, 0.01, 0.1, 1, 10]\n",
        "        }\n",
        "\n",
        "model = SVC()\n",
        "grid_search(model, param_grid, svc_x_train_Std, y_train)"
      ]
    },
    {
      "cell_type": "code",
      "execution_count": 18,
      "metadata": {
        "colab": {
          "base_uri": "https://localhost:8080/",
          "height": 513
        },
        "id": "5LKqoFfA8WqS",
        "outputId": "96910727-07b0-46fa-e8e8-4eafdd1cdd74"
      },
      "outputs": [
        {
          "output_type": "stream",
          "name": "stdout",
          "text": [
            "              Accuracy  Specificity  Sensitivity    MCC    PPV    NPV\n",
            "Training set     0.974        0.981        0.952  0.933  0.949  0.983\n",
            "Test_set         0.830        0.895        0.651  0.557  0.692  0.876\n"
          ]
        },
        {
          "output_type": "display_data",
          "data": {
            "text/plain": [
              "<Figure size 432x288 with 1 Axes>"
            ],
            "image/png": "[encoded data removed]"
          },
          "metadata": {
            "needs_background": "light"
          }
        },
        {
          "output_type": "stream",
          "name": "stdout",
          "text": [
            "[668 660 661 655 655] 660\n",
            "[57 64 63 69 69] 64\n",
            "[ 89  83  99  95 110] 95\n",
            "[176 182 166 170 155] 170\n",
            "accuracy: 0.839231547017189\n",
            "precision: 0.7264957264957265\n",
            "sensitivity: 0.6415094339622641\n",
            "specificity: 0.9116022099447514\n",
            "MCC: 0.5763995282854502\n"
          ]
        }
      ],
      "source": [
        "svc_model = SVC(kernel = 'rbf', C = 12, gamma = 1)\n",
        "svc_model.fit(svc_x_train_Std, y_train)\n",
        "plt.figure()\n",
        "df_svc, tr_predsc, tr_predlabel, te_predsc, te_predlabel, model = model_evaluation_result(svc_x_train_Std, y_train, svc_x_test_Std, y_test, svc_model, 'train', 'test')\n",
        "plt.show()\n",
        "print_cm(svc_model, svc_x_train_Std, y_train)"
      ]
    },
    {
      "cell_type": "markdown",
      "metadata": {
        "id": "22lesT27PEAT"
      },
      "source": [
        "**KNN**"
      ]
    },
    {
      "cell_type": "code",
      "execution_count": 20,
      "metadata": {
        "colab": {
          "base_uri": "https://localhost:8080/",
          "height": 335
        },
        "id": "I0kgzX5Grop1",
        "outputId": "22305042-975c-4645-85ba-0ee64b4ec480"
      },
      "outputs": [
        {
          "output_type": "stream",
          "name": "stdout",
          "text": [
            "[0.20441033183196988, 0.2060248593110069, 0.20905720501271563, 0.2108762038994597, 0.21128351257774924, 0.20845114440665502, 0.20359939128392113, 0.21027075609482082, 0.2112822869749058, 0.2135053262656903, 0.2153259592895589, 0.2163370816353627, 0.21835850925840805, 0.22341452952170848, 0.2236171625251504, 0.22725597736720082, 0.2288739773876276, 0.22988285279488507, 0.2317020559487697, 0.23150044428103078]\n",
            "[0.20441033183196988, 0.20441033183196988, 0.20137553492457427, 0.19915106576380592, 0.19773876275392954, 0.19571631379518128, 0.1940981095076142, 0.1932892116309709, 0.19591669986007698, 0.19450092430881105, 0.19713025094218217, 0.19814116902084533, 0.1973328839456242, 0.19915269990093043, 0.20137635199313664, 0.20279151474298085, 0.20622830938301107, 0.20562163597552874, 0.2086552072800809, 0.2052184126400507]\n"
          ]
        },
        {
          "output_type": "display_data",
          "data": {
            "text/plain": [
              "<Figure size 432x288 with 1 Axes>"
            ],
            "image/png": "[encoded data removed]"
          },
          "metadata": {
            "needs_background": "light"
          }
        }
      ],
      "source": [
        "k_range = range(1, 21)\n",
        "uni_k_error = []\n",
        "dis_k_error = []\n",
        "\n",
        "for method in [\"uniform\", \"distance\"]:\n",
        "  for k in k_range:\n",
        "      knn = KNeighborsClassifier(n_neighbors=k, weights = method)\n",
        "      scores = cross_val_score(knn, x_pretrain_Std, y_train, cv=5, scoring='accuracy')\n",
        "\n",
        "      if(method == 'uniform'): uni_k_error.append(1 - scores.mean())\n",
        "      else: dis_k_error.append(1 - scores.mean())\n",
        "\n",
        "print(uni_k_error)\n",
        "print(dis_k_error)\n",
        "plt.plot()\n",
        "unifrom, = plt.plot(k_range, uni_k_error, label = 'uniform')\n",
        "distance, = plt.plot(k_range, dis_k_error, label = 'distance')\n",
        "plt.xlabel('Value of K for KNN')\n",
        "plt.ylabel('Error')\n",
        "plt.legend(handles = [unifrom, distance], loc='upper right')\n",
        "plt.show()"
      ]
    },
    {
      "cell_type": "code",
      "execution_count": 21,
      "metadata": {
        "colab": {
          "base_uri": "https://localhost:8080/",
          "height": 335
        },
        "id": "QLONchF-tJjV",
        "outputId": "bc4170c7-f091-4288-9fdb-81c80e0ec866"
      },
      "outputs": [
        {
          "output_type": "stream",
          "name": "stdout",
          "text": [
            "[0.20279253607868364, 0.21289844859106744, 0.21593161136133832, 0.21431463267661444, 0.2126984710604528, 0.2120907763172677, 0.20966449122161968, 0.21411302100887541, 0.21653951037166408, 0.22078499862119683, 0.2234124868503028, 0.22401895599064459, 0.2262415867471479, 0.22866909744563946, 0.2290749762539448, 0.22887316031906524, 0.2308956092778136, 0.23251074955827222, 0.23554411659568386, 0.2353429134622259]\n",
            "[0.20279253607868364, 0.20279253607868364, 0.20198200406491607, 0.20279090194155924, 0.19955817017495492, 0.19773794568536718, 0.1940977009733329, 0.1955128637231771, 0.19530941365117305, 0.19632094453125803, 0.20056643278079067, 0.19793731041456009, 0.1981409647537049, 0.19773549447968064, 0.19935369876724773, 0.1997579434384289, 0.20319494234559965, 0.20481253383174525, 0.2058238604446896, 0.20764388066713646]\n"
          ]
        },
        {
          "output_type": "display_data",
          "data": {
            "text/plain": [
              "<Figure size 432x288 with 1 Axes>"
            ],
            "image/png": "[encoded data removed]"
          },
          "metadata": {
            "needs_background": "light"
          }
        }
      ],
      "source": [
        "k_range = range(1, 21)\n",
        "uni_k_error = []\n",
        "dis_k_error = []\n",
        "\n",
        "for method in [\"uniform\", \"distance\"]:\n",
        "  for k in k_range:\n",
        "      knn = KNeighborsClassifier(n_neighbors=k, weights = method)\n",
        "      scores = cross_val_score(knn, x_pretrain_MinMax, y_train, cv=5, scoring='accuracy')\n",
        "\n",
        "      if(method == 'uniform'): uni_k_error.append(1 - scores.mean())\n",
        "      else: dis_k_error.append(1 - scores.mean())\n",
        "\n",
        "print(uni_k_error)\n",
        "print(dis_k_error)\n",
        "plt.plot()\n",
        "unifrom, = plt.plot(k_range, uni_k_error, label = 'uniform')\n",
        "distance, = plt.plot(k_range, dis_k_error, label = 'distance')\n",
        "plt.xlabel('Value of K for KNN')\n",
        "plt.ylabel('Error')\n",
        "plt.legend(handles = [unifrom, distance], loc='upper right')\n",
        "plt.show()"
      ]
    },
    {
      "cell_type": "code",
      "source": [
        "p_range = range(1, 6)\n",
        "p_error = []\n",
        "\n",
        "for p in p_range:\n",
        "    knn = KNeighborsClassifier(n_neighbors= 8, weights = 'distance', p = p)\n",
        "    \n",
        "    scores = cross_val_score(knn, x_pretrain_Std, y_train, cv=5, scoring='accuracy')\n",
        "    p_error.append(1 - scores.mean())\n",
        "\n",
        "\n",
        "plt.plot(p_range, p_error)\n",
        "plt.xlabel('Value of p for KNN')\n",
        "plt.ylabel('Error')\n",
        "plt.show()"
      ],
      "metadata": {
        "colab": {
          "base_uri": "https://localhost:8080/",
          "height": 282
        },
        "id": "DAvxudd2HuMr",
        "outputId": "45ea3a1e-28a9-4afc-d085-a7b148edda26"
      },
      "execution_count": 23,
      "outputs": [
        {
          "output_type": "display_data",
          "data": {
            "text/plain": [
              "<Figure size 432x288 with 1 Axes>"
            ],
            "image/png": "[encoded data removed]"
          },
          "metadata": {
            "needs_background": "light"
          }
        }
      ]
    },
    {
      "cell_type": "code",
      "execution_count": 29,
      "metadata": {
        "colab": {
          "base_uri": "https://localhost:8080/",
          "height": 513
        },
        "id": "lcjgCaxMyLMC",
        "outputId": "cb31741b-decb-4c9d-b43a-8e8b8ceccc66"
      },
      "outputs": [
        {
          "output_type": "stream",
          "name": "stdout",
          "text": [
            "              Accuracy  Specificity  Sensitivity    MCC    PPV    NPV\n",
            "Training set     1.000        1.000        1.000  1.000  1.000  1.000\n",
            "Test_set         0.819        0.878        0.656  0.535  0.661  0.876\n"
          ]
        },
        {
          "output_type": "display_data",
          "data": {
            "text/plain": [
              "<Figure size 432x288 with 1 Axes>"
            ],
            "image/png": "[encoded data removed]"
          },
          "metadata": {
            "needs_background": "light"
          }
        },
        {
          "output_type": "stream",
          "name": "stdout",
          "text": [
            "[656 639 640 646 653] 647\n",
            "[69 85 84 78 71] 77\n",
            "[88 94 94 95 96] 93\n",
            "[177 171 171 170 169] 172\n",
            "accuracy: 0.8281092012133469\n",
            "precision: 0.6907630522088354\n",
            "sensitivity: 0.6490566037735849\n",
            "specificity: 0.893646408839779\n",
            "MCC: 0.5537821066397217\n"
          ]
        }
      ],
      "source": [
        "knn_model = KNeighborsClassifier(n_neighbors= 8, weights = 'distance', p = 1)\n",
        "knn_model.fit(x_pretrain_Std, y_train)\n",
        "plt.figure()\n",
        "df_knn, tr_predsc, tr_predlabel, te_predsc, te_predlabel, model = proba_model_evaluation_result(x_pretrain_Std, y_train, x_pretest_Std, y_test, knn_model, 'train', 'test')\n",
        "plt.show()\n",
        "print_cm(knn_model, x_pretrain_Std, y_train)"
      ]
    },
    {
      "cell_type": "markdown",
      "source": [
        "**RF**"
      ],
      "metadata": {
        "id": "g5x5YP-5dEJr"
      }
    },
    {
      "cell_type": "code",
      "source": [
        "rf = RandomForestClassifier()\n",
        "n_feature, selected = rfe_f_select(rf, x_pretrain_Std, y_train)"
      ],
      "metadata": {
        "colab": {
          "base_uri": "https://localhost:8080/"
        },
        "id": "BegsP4VWdH7C",
        "outputId": "2d7bd653-caa6-4bfd-87b3-c4001299a2e1"
      },
      "execution_count": 48,
      "outputs": [
        {
          "output_type": "stream",
          "name": "stdout",
          "text": [
            "Optimal number of features : 3\n",
            "Support is [False False False False False False False False False False False False\n",
            " False False False False False False False False False False False False\n",
            " False False False False False False False False False False False False\n",
            " False  True  True False False False False False False False False False\n",
            "  True False False False False False False False False False]\n",
            "Ranking of features : [19  8 26 40 33 35 39 42 34 41 56 48 47 32 28 25 46 55 53 49 45 36 37 43\n",
            " 44 52 51 54  2  4 11 23 30 38 31 27 24  1  1  3  7  6 18 14 15 21  5 12\n",
            "  1 20  9 17 29 13 16 10 50 22]\n"
          ]
        }
      ]
    },
    {
      "cell_type": "code",
      "source": [
        "rf_train_data = train_predata.loc[:, selected]\n",
        "rf_test_data = test_predata.loc[:, selected]\n",
        "\n",
        "print(rf_train_data.columns)\n",
        "print(rf_train_data)\n",
        "print(rf_test_data)"
      ],
      "metadata": {
        "colab": {
          "base_uri": "https://localhost:8080/"
        },
        "id": "7gvLLXMplAUv",
        "outputId": "2b5bd32f-7115-4175-da73-8c5397384117"
      },
      "execution_count": 49,
      "outputs": [
        {
          "output_type": "stream",
          "name": "stdout",
          "text": [
            "Index(['c59', 'c60', 'c73'], dtype='object')\n",
            "       c59    c60   c73\n",
            "3318  41.0  218.0  12.6\n",
            "2701  32.1  116.0  10.6\n",
            "5862  32.9  190.0  11.3\n",
            "3595  33.6  263.0  10.6\n",
            "2377  36.4  299.0  11.4\n",
            "...    ...    ...   ...\n",
            "4931  33.1  236.0  10.3\n",
            "3264  33.2  256.0   9.2\n",
            "1653  36.7  262.0  12.2\n",
            "2607  32.0  283.0  10.7\n",
            "2732  32.8   91.0  11.0\n",
            "\n",
            "[4946 rows x 3 columns]\n",
            "       c59    c60   c73\n",
            "1091  33.4   84.0  12.0\n",
            "2194  34.1  419.0  11.6\n",
            "2921  37.7  187.0  12.2\n",
            "878   24.4  136.0   8.6\n",
            "3093  34.2  156.0  11.6\n",
            "...    ...    ...   ...\n",
            "6605  36.0  204.0  10.0\n",
            "6698  31.5  129.0  10.7\n",
            "2161  36.0  396.0  11.7\n",
            "4462  36.7  234.0  11.3\n",
            "1231  30.0   85.0   9.6\n",
            "\n",
            "[2121 rows x 3 columns]\n"
          ]
        }
      ]
    },
    {
      "cell_type": "code",
      "source": [
        "rf_scaler_Std = preprocessing.StandardScaler().fit(rf_train_data)\n",
        "\n",
        "rf_scaler_MinMax = preprocessing.MinMaxScaler().fit(rf_train_data)\n",
        "rf_x_train_Std = rf_scaler_Std.transform(rf_train_data)\n",
        "rf_x_test_Std = rf_scaler_Std.transform(rf_test_data)\n",
        "\n",
        "print(rf_x_train_Std)"
      ],
      "metadata": {
        "colab": {
          "base_uri": "https://localhost:8080/"
        },
        "id": "tS-karu8mIQT",
        "outputId": "45ee55f5-ee53-42d8-ca60-fa63d9229741"
      },
      "execution_count": 50,
      "outputs": [
        {
          "output_type": "stream",
          "name": "stdout",
          "text": [
            "[[ 2.31544328  0.28507844  1.56867342]\n",
            " [-0.14463792 -1.01898721 -0.17922595]\n",
            " [ 0.07649297 -0.07290036  0.43253883]\n",
            " ...\n",
            " [ 1.12686472  0.84761656  1.21909354]\n",
            " [-0.17227929  1.11610067 -0.09183098]\n",
            " [ 0.04885161 -1.33861114  0.17035393]]\n"
          ]
        }
      ]
    },
    {
      "cell_type": "code",
      "source": [
        "param_grid = {\n",
        "    'max_depth': [10, 20, 30, 40],\n",
        "    'min_samples_leaf': [1, 2, 4],\n",
        "    'min_samples_split': [2, 4, 8],\n",
        "    'n_estimators': [100, 150, 200, 250]\n",
        "}\n",
        "\n",
        "model = RandomForestClassifier()\n",
        "grid_search(model, param_grid, rf_x_train_Std, y_train)"
      ],
      "metadata": {
        "colab": {
          "base_uri": "https://localhost:8080/"
        },
        "id": "uCtW_TjxlY0P",
        "outputId": "566398b2-3d2c-4b49-c084-abb06ebbf635"
      },
      "execution_count": 45,
      "outputs": [
        {
          "output_type": "stream",
          "name": "stdout",
          "text": [
            "Fitting 5 folds for each of 144 candidates, totalling 720 fits\n",
            "{'max_depth': 40, 'min_samples_leaf': 1, 'min_samples_split': 2, 'n_estimators': 250}\n"
          ]
        }
      ]
    },
    {
      "cell_type": "code",
      "source": [
        "param_grid = {\n",
        "    'max_depth': [40, 50, 60, 70],\n",
        "    'criterion': ['entropy', 'gini'],\n",
        "    'min_samples_leaf': [1, 2, 4],\n",
        "    'min_samples_split': [2, 4, 8],\n",
        "    'n_estimators': [250, 300, 350, 400]\n",
        "}\n",
        "\n",
        "model = RandomForestClassifier()\n",
        "grid_search(model, param_grid, rf_x_train_Std, y_train)"
      ],
      "metadata": {
        "colab": {
          "base_uri": "https://localhost:8080/"
        },
        "id": "PmkRhp9czAiu",
        "outputId": "9efab507-19f1-4801-b5d3-691daa2bd970"
      },
      "execution_count": 50,
      "outputs": [
        {
          "output_type": "stream",
          "name": "stdout",
          "text": [
            "Fitting 5 folds for each of 288 candidates, totalling 1440 fits\n",
            "{'criterion': 'gini', 'max_depth': 70, 'min_samples_leaf': 1, 'min_samples_split': 2, 'n_estimators': 350}\n"
          ]
        }
      ]
    },
    {
      "cell_type": "code",
      "source": [
        "param_grid = {\n",
        "    'max_depth': [70, 80, 90],\n",
        "    'min_samples_leaf': [1],\n",
        "    'min_samples_split': [2],\n",
        "    'n_estimators': [300, 350, 400]\n",
        "}\n",
        "\n",
        "model = RandomForestClassifier()\n",
        "grid_search(model, param_grid, rf_x_train_Std, y_train)"
      ],
      "metadata": {
        "colab": {
          "base_uri": "https://localhost:8080/"
        },
        "id": "KwgREZEq_bGu",
        "outputId": "61be25d7-e53b-4dba-d383-ccd7d97b4bf6"
      },
      "execution_count": 58,
      "outputs": [
        {
          "output_type": "stream",
          "name": "stdout",
          "text": [
            "Fitting 5 folds for each of 9 candidates, totalling 45 fits\n",
            "{'max_depth': 80, 'min_samples_leaf': 1, 'min_samples_split': 2, 'n_estimators': 350}\n"
          ]
        }
      ]
    },
    {
      "cell_type": "code",
      "source": [
        "rf_model = RandomForestClassifier(max_depth= 80, min_samples_leaf=1, min_samples_split=2, n_estimators=350)\n",
        "rf_model.fit(rf_x_train_Std, y_train)\n",
        "plt.figure()\n",
        "df_rf, tr_predsc, tr_predlabel, te_predsc, te_predlabel, model = proba_model_evaluation_result(rf_x_train_Std, y_train, rf_x_test_Std, y_test, rf_model, 'train', 'test')\n",
        "plt.show()\n",
        "print_cm(rf_model, rf_x_train_Std, y_train)"
      ],
      "metadata": {
        "colab": {
          "base_uri": "https://localhost:8080/",
          "height": 513
        },
        "id": "NeVTOgymAVPW",
        "outputId": "1f8ade24-1914-4f3d-a0e2-5241467a42fb"
      },
      "execution_count": 55,
      "outputs": [
        {
          "output_type": "stream",
          "name": "stdout",
          "text": [
            "              Accuracy  Specificity  Sensitivity    MCC    PPV    NPV\n",
            "Training set     0.975        0.983        0.952  0.936  0.955  0.982\n",
            "Test_set         0.925        0.942        0.878  0.809  0.845  0.955\n"
          ]
        },
        {
          "output_type": "display_data",
          "data": {
            "text/plain": [
              "<Figure size 432x288 with 1 Axes>"
            ],
            "image/png": "[encoded data removed]"
          },
          "metadata": {
            "needs_background": "light"
          }
        },
        {
          "output_type": "stream",
          "name": "stdout",
          "text": [
            "[689 692 684 681 688] 687\n",
            "[36 32 40 43 36] 37\n",
            "[35 43 51 46 47] 44\n",
            "[230 222 214 219 218] 221\n",
            "accuracy: 0.9180990899898888\n",
            "precision: 0.8565891472868217\n",
            "sensitivity: 0.8339622641509434\n",
            "specificity: 0.9488950276243094\n",
            "MCC: 0.7895984364684694\n"
          ]
        }
      ]
    },
    {
      "cell_type": "markdown",
      "source": [
        "**Xgboost**"
      ],
      "metadata": {
        "id": "gNz5hd7aLtkt"
      }
    },
    {
      "cell_type": "code",
      "source": [
        "xgb = XGBClassifier()\n",
        "n_feature, selected = rfe_f_select(xgb, x_pretrain_Std, y_train)"
      ],
      "metadata": {
        "colab": {
          "base_uri": "https://localhost:8080/"
        },
        "id": "hbvtFylvLyhV",
        "outputId": "91b6fd22-83e2-46ce-cded-0780c9b03415"
      },
      "execution_count": 18,
      "outputs": [
        {
          "output_type": "stream",
          "name": "stdout",
          "text": [
            "Optimal number of features : 28\n",
            "Support is [ True  True  True False False  True  True  True False False False False\n",
            " False False False  True False False  True False False False False False\n",
            "  True False False False False False False  True  True False False  True\n",
            " False  True  True  True  True  True  True  True  True  True  True  True\n",
            "  True  True  True False False  True False  True False False]\n",
            "Ranking of features : [ 1  1  1  6 10  1  1  1 23 25 18 17 15 19 20  1  3 13  1 27 28 26 24 22\n",
            "  1 14 12 29  8  9 11  1  1 16  5  1  7  1  1  1  1  1  1  1  1  1  1  1\n",
            "  1  1  1  2 21  1  4  1 30 31]\n"
          ]
        }
      ]
    },
    {
      "cell_type": "code",
      "source": [
        "xgb_train_data = train_predata.loc[:, selected]\n",
        "xgb_test_data = test_predata.loc[:, selected]\n",
        "\n",
        "print(xgb_train_data.columns)\n",
        "print(xgb_train_data)\n",
        "print(xgb_test_data)"
      ],
      "metadata": {
        "colab": {
          "base_uri": "https://localhost:8080/"
        },
        "id": "K2q2DYXmlr0w",
        "outputId": "c0f761b9-216c-4564-c262-0a35a3947c39"
      },
      "execution_count": 19,
      "outputs": [
        {
          "output_type": "stream",
          "name": "stdout",
          "text": [
            "Index(['d1', 'd2', 'd3', 'd6', 'd7', 'd8', 'd22', 'd27', 'd33', 'c49', 'c50',\n",
            "       'c55', 'c59', 'c60', 'c61', 'c62', 'c64', 'c65', 'c66', 'c67', 'c70',\n",
            "       'c71', 'c72', 'c73', 'c74', 'c75', 'c82', 'c84'],\n",
            "      dtype='object')\n",
            "        d1     d2    d3   d6    d7  d8  d22  d27  d33      c49  ...   c66  \\\n",
            "3318  1.70  1.800  1250  0.5  40.0   1    2    1  1.0  63.2108  ...   4.0   \n",
            "2701  1.60  1.680  1000  1.0  40.0   1    2    1  1.0  67.2000  ...  10.0   \n",
            "5862  1.60  1.700     0  1.0  50.0   1    1    1  1.0  52.5000  ...   7.0   \n",
            "3595  1.64  1.735   250  0.5  40.0   1    2    1  1.0  51.5000  ...   8.0   \n",
            "2377  1.60  1.680  1000  1.0  40.0   1    5    1  1.0  79.0000  ...  14.0   \n",
            "...    ...    ...   ...  ...   ...  ..  ...  ...  ...      ...  ...   ...   \n",
            "4931  1.60  1.700     0  1.5  40.0   1    3    1  1.0  74.0000  ...  16.0   \n",
            "3264  1.70  1.800  1250  0.5  40.0   1    2    1  1.0  63.2108  ...   5.0   \n",
            "1653  1.63  1.720   750  1.0  50.0   1    3    1  2.8  54.5000  ...   7.0   \n",
            "2607  1.68  1.780  1000  0.5  40.0   1    2    1  1.0  35.0000  ...  40.0   \n",
            "2732  1.60  1.670  1000  1.0  40.0   1    2    1  1.0  67.2000  ...  16.0   \n",
            "\n",
            "        c67  c70    c71   c72   c73     c74   c75     c82    c84  \n",
            "3318  137.0  3.7  124.0   9.5  12.6  2.9185  6.00   621.6  260.0  \n",
            "2701  139.0  4.4  108.0  10.1  10.6  1.1365  6.22   532.2  257.0  \n",
            "5862  135.0  4.3   80.0   9.3  11.3  7.9100  6.90   341.4  146.0  \n",
            "3595  137.0  4.1   77.0   9.3  10.6  7.8165  5.50    24.0  184.0  \n",
            "2377  138.0  4.1  115.0  10.1  11.4  1.1365  6.40  1145.6  218.0  \n",
            "...     ...  ...    ...   ...   ...     ...   ...     ...    ...  \n",
            "4931  137.0  4.6   27.0  10.9  10.3  5.1200  5.20    10.2  320.0  \n",
            "3264  134.0  3.8  103.0   9.2   9.2  2.9185  6.20   621.6  222.0  \n",
            "1653  136.0  4.3   55.0   9.5  12.2  7.6560  6.00   233.4  212.0  \n",
            "2607  136.0  3.7   83.0   8.2  10.7  2.9185  5.50   147.4  175.0  \n",
            "2732  139.0  4.2   96.0  10.7  11.0  1.1365  6.10   532.2  257.0  \n",
            "\n",
            "[4946 rows x 28 columns]\n",
            "         d1     d2    d3   d6    d7  d8  d22  d27  d33   c49  ...   c66  \\\n",
            "1091  1.640  1.740  1250  1.0  40.0   5    5    1  1.0  59.5  ...  17.0   \n",
            "2194  1.600  1.675  1000  1.0  40.0   1    3    1  1.0  63.3  ...   7.0   \n",
            "2921  1.600  1.670  1000  0.5  10.0   1    3    1  2.0  89.5  ...   4.0   \n",
            "878   1.620  1.730  1250  1.0  40.0   5    3    1  1.0  42.5  ...  14.0   \n",
            "3093  1.760  1.865  1250  0.5  40.0   1    2    1  1.0  68.0  ...  13.0   \n",
            "...     ...    ...   ...  ...   ...  ..  ...  ...  ...   ...  ...   ...   \n",
            "6605  1.700  1.800     0  1.0  30.0   1    2    1  1.0  43.4  ...   7.0   \n",
            "6698  1.600  1.700     0  1.0  50.0   1    2    1  1.0  52.0  ...  40.0   \n",
            "2161  1.610  1.685  1000  1.0  40.0   1    3    1  1.0  63.3  ...  11.0   \n",
            "4462  1.625  1.695  1000  0.5  40.0   1    5    1  1.0  50.2  ...   5.0   \n",
            "1231  1.630  1.720  1250  1.0  40.0   1    2    1  3.0  67.0  ...  10.0   \n",
            "\n",
            "        c67  c70    c71   c72   c73     c74     c75     c82    c84  \n",
            "1091  139.0  4.5   95.0  10.1  12.0  1.1365   5.765  297.60  280.0  \n",
            "2194  139.0  4.2   53.0   8.9  11.6  1.1365   6.900   61.60  306.0  \n",
            "2921  136.0  3.7  107.0   9.1  12.2  6.5600   7.900  138.60  196.0  \n",
            "878   126.0  3.9  107.0   9.1   8.6  1.2900   7.250  712.50  221.0  \n",
            "3093  136.0  4.5   90.0   8.9  11.6  2.9185   9.700   33.10  238.0  \n",
            "...     ...  ...    ...   ...   ...     ...     ...     ...    ...  \n",
            "6605  139.0  4.0   92.0  11.4  10.0  5.7800  10.700  363.10  189.0  \n",
            "6698  136.0  3.3  324.0   8.9  10.7  1.5400   7.900  100.50  199.0  \n",
            "2161  136.0  4.0   58.0   9.6  11.7  1.1365   6.900   61.60  306.0  \n",
            "4462  138.0  4.3   84.0   9.1  11.3  2.8300   4.400  216.06  237.0  \n",
            "1231  135.0  3.1  132.0   9.9   9.6  4.8580   5.865  694.00  183.0  \n",
            "\n",
            "[2121 rows x 28 columns]\n"
          ]
        }
      ]
    },
    {
      "cell_type": "code",
      "source": [
        "xgb_scaler_Std = preprocessing.StandardScaler().fit(xgb_train_data)\n",
        "\n",
        "xgb_scaler_MinMax = preprocessing.MinMaxScaler().fit(xgb_train_data)\n",
        "xgb_x_train_Std = xgb_scaler_Std.transform(xgb_train_data)\n",
        "xgb_x_test_Std = xgb_scaler_Std.transform(xgb_test_data)\n",
        "\n",
        "print(xgb_x_train_Std)"
      ],
      "metadata": {
        "colab": {
          "base_uri": "https://localhost:8080/"
        },
        "id": "DCVTVHo_mLDH",
        "outputId": "438f92f0-4a70-4d03-d21c-7053efd8cc24"
      },
      "execution_count": 20,
      "outputs": [
        {
          "output_type": "stream",
          "name": "stdout",
          "text": [
            "[[ 1.07689771  1.14526039  0.98260277 ... -0.56007403  0.53584392\n",
            "   0.98242483]\n",
            " [-0.72008145 -0.85551947  0.48048961 ... -0.4147665   0.33472955\n",
            "   0.90855437]\n",
            " [-0.72008145 -0.52205616 -1.52796304 ...  0.03436585 -0.0944944\n",
            "  -1.82465261]\n",
            " ...\n",
            " [-0.1809877  -0.18859285 -0.02162356 ... -0.56007403 -0.33745135\n",
            "  -0.19950251]\n",
            " [ 0.71750188  0.81179708  0.48048961 ... -0.8903184  -0.53091707\n",
            "  -1.11057151]\n",
            " [-0.72008145 -1.02225113  0.48048961 ... -0.49402515  0.33472955\n",
            "   0.90855437]]\n"
          ]
        }
      ]
    },
    {
      "cell_type": "code",
      "source": [
        "random_grid = {\n",
        "    'n_estimators':[100, 200, 300, 400],\n",
        "    'max_depth': [20, 30, 40, 50, 60],\n",
        "    'learning_rate': [0.01, 0.1, 0.2, 0.3, 0.4],\n",
        "    'gamma': [0.1, 1, 10]\n",
        "}\n",
        "\n",
        "model = XGBClassifier()\n",
        "model_RSCV = RandomizedSearchCV(estimator = model, param_distributions=random_grid, n_iter=100, cv=5, verbose=1, n_jobs=-1)\n",
        "\n",
        "model_RSCV.fit(xgb_x_train_Std,y_train)\n",
        "print(model_RSCV.best_params_)"
      ],
      "metadata": {
        "colab": {
          "base_uri": "https://localhost:8080/"
        },
        "id": "2oYC_OZOGS-t",
        "outputId": "382e44ec-5edd-44c0-8179-5528af20e079"
      },
      "execution_count": 27,
      "outputs": [
        {
          "output_type": "stream",
          "name": "stdout",
          "text": [
            "Fitting 5 folds for each of 100 candidates, totalling 500 fits\n",
            "{'n_estimators': 100, 'max_depth': 20, 'learning_rate': 0.4, 'gamma': 0.1}\n"
          ]
        }
      ]
    },
    {
      "cell_type": "code",
      "source": [
        "xgb_model = XGBClassifier(n_estimators=100, max_depth=20, learning_rate=0.4, gamma=0.1)\n",
        "xgb_model.fit(xgb_x_train_Std, y_train)\n",
        "plt.figure()\n",
        "df_xgb, tr_predsc, tr_predlabel, te_predsc, te_predlabel, model = proba_model_evaluation_result(xgb_x_train_Std, y_train, xgb_x_test_Std, y_test, xgb_model, 'train', 'test')\n",
        "plt.show()\n",
        "print_cm(xgb_model, xgb_x_train_Std, y_train)"
      ],
      "metadata": {
        "colab": {
          "base_uri": "https://localhost:8080/",
          "height": 513
        },
        "id": "6jhv9cyfPL4K",
        "outputId": "a32fada0-b041-4511-f59c-93a123d85dd9"
      },
      "execution_count": 36,
      "outputs": [
        {
          "output_type": "stream",
          "name": "stdout",
          "text": [
            "              Accuracy  Specificity  Sensitivity    MCC    PPV    NPV\n",
            "Training set     0.983        0.989        0.968  0.958  0.970  0.988\n",
            "Test_set         0.925        0.945        0.869  0.808  0.851  0.952\n"
          ]
        },
        {
          "output_type": "display_data",
          "data": {
            "text/plain": [
              "<Figure size 432x288 with 1 Axes>"
            ],
            "image/png": "[encoded data removed]"
          },
          "metadata": {
            "needs_background": "light"
          }
        },
        {
          "output_type": "stream",
          "name": "stdout",
          "text": [
            "[690 699 684 690 689] 690\n",
            "[35 25 40 34 35] 34\n",
            "[30 41 38 43 40] 38\n",
            "[235 224 227 222 225] 227\n",
            "accuracy: 0.9271991911021233\n",
            "precision: 0.8697318007662835\n",
            "sensitivity: 0.8566037735849057\n",
            "specificity: 0.9530386740331491\n",
            "MCC: 0.8135786548404282\n"
          ]
        }
      ]
    },
    {
      "cell_type": "markdown",
      "source": [
        "**儲存模型**"
      ],
      "metadata": {
        "id": "E6-GX6EkVVjS"
      }
    },
    {
      "cell_type": "code",
      "source": [
        "dump(rf_model, 'finalmodel.joblib')"
      ],
      "metadata": {
        "colab": {
          "base_uri": "https://localhost:8080/"
        },
        "id": "sb9dbBqtVaw5",
        "outputId": "191ecf0a-58dd-45e2-9164-310cc40702ed"
      },
      "execution_count": 65,
      "outputs": [
        {
          "output_type": "execute_result",
          "data": {
            "text/plain": [
              "['finalmodel.joblib']"
            ]
          },
          "metadata": {},
          "execution_count": 65
        }
      ]
    },
    {
      "cell_type": "code",
      "source": [
        "test_model = load('finalmodel.joblib')"
      ],
      "metadata": {
        "id": "ulHInJ8sZC9F"
      },
      "execution_count": 66,
      "outputs": []
    },
    {
      "cell_type": "code",
      "source": [
        "cv_results = cross_validate(test_model, rf_x_train_Std, y_train, cv = 5, scoring = confusion_matrix_scorer)\n",
        "tn = round(cv_results['test_tn'].mean())\n",
        "fp = round(cv_results['test_fp'].mean())\n",
        "fn = round(cv_results['test_fn'].mean())\n",
        "tp = round(cv_results['test_tp'].mean())\n",
        "accuracy = (tp+tn)/(tn+fp+fn+tp)\n",
        "precision = tp/(tp+fp)\n",
        "sensitivity = tp/(tp+fn)\n",
        "specificity = tn/(tn+fp)\n",
        "MCC = ((tp*tn)-(fp*fn))/math.sqrt((tp+fp)*(tp+fn)*(tn+fp)*(tn+fn))\n",
        "print(cv_results['test_tn'], round(cv_results['test_tn'].mean()))\n",
        "print(cv_results['test_fp'], round(cv_results['test_fp'].mean()))\n",
        "print(cv_results['test_fn'], round(cv_results['test_fn'].mean()))\n",
        "print(cv_results['test_tp'], round(cv_results['test_tp'].mean()))\n",
        "print('accuracy:', accuracy)\n",
        "print('precision:', precision)\n",
        "print('sensitivity:', sensitivity)\n",
        "print('specificity:', specificity)\n",
        "print('MCC:', MCC)"
      ],
      "metadata": {
        "colab": {
          "base_uri": "https://localhost:8080/"
        },
        "id": "5ImI__zoZPJ5",
        "outputId": "70c5933a-6633-4ed7-f0d2-d9a36206c207"
      },
      "execution_count": 67,
      "outputs": [
        {
          "output_type": "stream",
          "name": "stdout",
          "text": [
            "[689 690 690 678 690] 687\n",
            "[36 34 34 46 34] 37\n",
            "[37 42 50 45 45] 44\n",
            "[228 223 215 220 220] 221\n",
            "accuracy: 0.9180990899898888\n",
            "precision: 0.8565891472868217\n",
            "sensitivity: 0.8339622641509434\n",
            "specificity: 0.9488950276243094\n",
            "MCC: 0.7895984364684694\n"
          ]
        }
      ]
    }
  ],
  "metadata": {
    "colab": {
      "collapsed_sections": [],
      "provenance": []
    },
    "kernelspec": {
      "display_name": "Python 3",
      "name": "python3"
    },
    "language_info": {
      "name": "python"
    },
    "accelerator": "GPU",
    "gpuClass": "standard"
  },
  "nbformat": 4,
  "nbformat_minor": 0
}